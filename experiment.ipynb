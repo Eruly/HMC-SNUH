{
 "cells": [
  {
   "cell_type": "code",
   "execution_count": null,
   "metadata": {},
   "outputs": [],
   "source": [
    "GET_ROW = 0\n",
    "EEG_PATH = '/data/train_eegs/'\n",
    "SPEC_PATH = '/data/train_spectrograms/'\n",
    "\n",
    "train = pd.read_csv('train.csv')\n",
    "row = train.iloc[GET_ROW]\n",
    "\n",
    "eeg = pd.read_parquet(f'{EEG_PATH}{row.eeg_id}.parquet')\n",
    "eeg_offset = int( row.eeg_label_offset_seconds )\n",
    "eeg = eeg.iloc[eeg_offset*200:(eeg_offset+50)*200]\n",
    "\n",
    "spectrogram = pd.read_parquet(f'{SPEC_PATH}{row.spectrogram_id}.parquet')\n",
    "spec_offset = int( row.spectrogram_label_offset_seconds )\n",
    "spectrogram = spectrogram.loc[(spectrogram.time>=spec_offset)\n",
    "                     &(spectrogram.time<spec_offset+600)]"
   ]
  },
  {
   "cell_type": "code",
   "execution_count": null,
   "metadata": {},
   "outputs": [],
   "source": [
    "import pandas as pd"
   ]
  },
  {
   "cell_type": "code",
   "execution_count": null,
   "metadata": {},
   "outputs": [],
   "source": []
  }
 ],
 "metadata": {
  "language_info": {
   "name": "python"
  }
 },
 "nbformat": 4,
 "nbformat_minor": 2
}
